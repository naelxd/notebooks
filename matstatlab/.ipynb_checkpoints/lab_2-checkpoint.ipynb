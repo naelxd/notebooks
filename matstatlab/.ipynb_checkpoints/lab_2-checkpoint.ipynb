{
 "cells": [
  {
   "cell_type": "code",
   "execution_count": 1,
   "metadata": {},
   "outputs": [],
   "source": [
    "import pandas as pd\n",
    "import scipy.stats as st\n",
    "import numpy as np\n",
    "import matplotlib.pyplot as plt\n",
    "import seaborn as sns"
   ]
  },
  {
   "cell_type": "code",
   "execution_count": 3,
   "metadata": {},
   "outputs": [
    {
     "data": {
      "text/html": [
       "<div>\n",
       "<style scoped>\n",
       "    .dataframe tbody tr th:only-of-type {\n",
       "        vertical-align: middle;\n",
       "    }\n",
       "\n",
       "    .dataframe tbody tr th {\n",
       "        vertical-align: top;\n",
       "    }\n",
       "\n",
       "    .dataframe thead th {\n",
       "        text-align: right;\n",
       "    }\n",
       "</style>\n",
       "<table border=\"1\" class=\"dataframe\">\n",
       "  <thead>\n",
       "    <tr style=\"text-align: right;\">\n",
       "      <th></th>\n",
       "      <th>birth_time</th>\n",
       "      <th>sex</th>\n",
       "      <th>Birth weight in grams</th>\n",
       "      <th>Number of minutes after midnight of each birth</th>\n",
       "    </tr>\n",
       "  </thead>\n",
       "  <tbody>\n",
       "    <tr>\n",
       "      <th>0</th>\n",
       "      <td>5</td>\n",
       "      <td>1</td>\n",
       "      <td>3837</td>\n",
       "      <td>5</td>\n",
       "    </tr>\n",
       "    <tr>\n",
       "      <th>1</th>\n",
       "      <td>104</td>\n",
       "      <td>1</td>\n",
       "      <td>3334</td>\n",
       "      <td>64</td>\n",
       "    </tr>\n",
       "    <tr>\n",
       "      <th>2</th>\n",
       "      <td>118</td>\n",
       "      <td>2</td>\n",
       "      <td>3554</td>\n",
       "      <td>78</td>\n",
       "    </tr>\n",
       "    <tr>\n",
       "      <th>3</th>\n",
       "      <td>155</td>\n",
       "      <td>2</td>\n",
       "      <td>3838</td>\n",
       "      <td>115</td>\n",
       "    </tr>\n",
       "    <tr>\n",
       "      <th>4</th>\n",
       "      <td>257</td>\n",
       "      <td>2</td>\n",
       "      <td>3625</td>\n",
       "      <td>177</td>\n",
       "    </tr>\n",
       "  </tbody>\n",
       "</table>\n",
       "</div>"
      ],
      "text/plain": [
       "   birth_time  sex  Birth weight in grams  \\\n",
       "0           5    1                   3837   \n",
       "1         104    1                   3334   \n",
       "2         118    2                   3554   \n",
       "3         155    2                   3838   \n",
       "4         257    2                   3625   \n",
       "\n",
       "   Number of minutes after midnight of each birth  \n",
       "0                                               5  \n",
       "1                                              64  \n",
       "2                                              78  \n",
       "3                                             115  \n",
       "4                                             177  "
      ]
     },
     "execution_count": 3,
     "metadata": {},
     "output_type": "execute_result"
    }
   ],
   "source": [
    "df = pd.read_fwf(\n",
    "    './data/babyboom.dat.txt', \n",
    "    # colspecs=colspecs, \n",
    "    header=None, \n",
    "    names=['birth_time',\n",
    "           'sex',\n",
    "           'Birth weight in grams',\n",
    "           'Number of minutes after midnight of each birth']\n",
    ")\n",
    "df.head()"
   ]
  },
  {
   "cell_type": "markdown",
   "metadata": {},
   "source": [
    "### Тестирум три гипотезы\n",
    "1) Вес распределен нормально  \n",
    "**H0**: Birth weight in grams ~ $ N(df['Birth weight in grams'].mean(), df['Birth weight in grams'].std(ddof=1))$  \n",
    "2) Вес мальчиков распределен нормально  \n",
    "3) Вес девочек распределен нормально  \n",
    "alpha = 0.05\n"
   ]
  },
  {
   "cell_type": "code",
   "execution_count": 12,
   "metadata": {},
   "outputs": [
    {
     "data": {
      "text/plain": [
       "KstestResult(statistic=0.18336357215784677, pvalue=0.09106523162555868, statistic_location=3278, statistic_sign=-1)"
      ]
     },
     "execution_count": 12,
     "metadata": {},
     "output_type": "execute_result"
    }
   ],
   "source": [
    "st.ks_1samp(x=df['Birth weight in grams'], \n",
    "            cdf=st.norm(df['Birth weight in grams'].mean(), df['Birth weight in grams'].std(ddof=1)).cdf)"
   ]
  },
  {
   "cell_type": "markdown",
   "metadata": {},
   "source": [
    "pval = 0.09 > alpha -> не отвергаем H0"
   ]
  },
  {
   "cell_type": "code",
   "execution_count": 13,
   "metadata": {},
   "outputs": [
    {
     "data": {
      "text/plain": [
       "KstestResult(statistic=0.21427812399671214, pvalue=0.3315835424835907, statistic_location=3208, statistic_sign=-1)"
      ]
     },
     "execution_count": 13,
     "metadata": {},
     "output_type": "execute_result"
    }
   ],
   "source": [
    "st.ks_1samp(x=df.loc[df['sex'] == 1, 'Birth weight in grams'], \n",
    "            cdf=st.norm(df.loc[df['sex'] == 1, 'Birth weight in grams'].mean(), df.loc[df['sex'] == 1, 'Birth weight in grams'].std(ddof=1)).cdf)"
   ]
  },
  {
   "cell_type": "markdown",
   "metadata": {},
   "source": [
    "pval = 0.33 > alpha -> не отвергаем H0"
   ]
  },
  {
   "cell_type": "code",
   "execution_count": 15,
   "metadata": {},
   "outputs": [
    {
     "data": {
      "text/plain": [
       "KstestResult(statistic=0.15544307065675722, pvalue=0.5070763720555325, statistic_location=3294, statistic_sign=-1)"
      ]
     },
     "execution_count": 15,
     "metadata": {},
     "output_type": "execute_result"
    }
   ],
   "source": [
    "st.ks_1samp(x=df.loc[df['sex'] == 2, 'Birth weight in grams'], \n",
    "            cdf=st.norm(df.loc[df['sex'] == 2, 'Birth weight in grams'].mean(), df.loc[df['sex'] == 2, 'Birth weight in grams'].std(ddof=1)).cdf)"
   ]
  },
  {
   "cell_type": "markdown",
   "metadata": {},
   "source": [
    "pval = 0.50 > alpha -> не отвергаем H0"
   ]
  },
  {
   "cell_type": "markdown",
   "metadata": {},
   "source": [
    "### Во всех трех случаях не отвергаем нулевую гипотезу о том что выборки из нормального"
   ]
  },
  {
   "cell_type": "markdown",
   "metadata": {},
   "source": [
    "## Ди для параметров нормальных распределний"
   ]
  },
  {
   "cell_type": "markdown",
   "metadata": {},
   "source": [
    "### Параметры распределния веса"
   ]
  },
  {
   "cell_type": "code",
   "execution_count": 62,
   "metadata": {},
   "outputs": [],
   "source": [
    "def find_mean_ci(val, alpha):\n",
    "    return st.norm.interval(1 - alpha, loc=val.mean(), scale=val.std(ddof=1)/np.sqrt(len(df)))\n",
    "def find_std_ci(val, alpha):\n",
    "    var = np.var(val, ddof=1)\n",
    "    ci_std = st.chi2.interval(1-alpha, df=len(val)-1)\n",
    "    ci_std = [np.sqrt((len(val)-1)*var/ci_std[1]), np.sqrt((len(val)-1)*var/ci_std[0])]\n",
    "    return ci_std"
   ]
  },
  {
   "cell_type": "code",
   "execution_count": 63,
   "metadata": {},
   "outputs": [
    {
     "name": "stdout",
     "output_type": "stream",
     "text": [
      "(3119.9337914896673, 3431.9752994194237)\n",
      "[436.27247886430507, 669.0306102925874]\n"
     ]
    }
   ],
   "source": [
    "print(find_mean_ci(df['Birth weight in grams'], 0.05))\n",
    "print(find_std_ci(df['Birth weight in grams'], 0.05))"
   ]
  },
  {
   "cell_type": "markdown",
   "metadata": {},
   "source": [
    "### Параметры распределния веса мальчиков"
   ]
  },
  {
   "cell_type": "code",
   "execution_count": 64,
   "metadata": {},
   "outputs": [
    {
     "name": "stdout",
     "output_type": "stream",
     "text": [
      "(2945.827160708499, 3319.0617281803898)\n",
      "[473.93169852283967, 946.8331595131432]\n"
     ]
    }
   ],
   "source": [
    "print(find_mean_ci(df.loc[df['sex'] == 1, 'Birth weight in grams'], 0.05))\n",
    "print(find_std_ci(df.loc[df['sex'] == 1, 'Birth weight in grams'], 0.05))"
   ]
  },
  {
   "cell_type": "markdown",
   "metadata": {},
   "source": [
    "### Параметры распределния веса девочек"
   ]
  },
  {
   "cell_type": "code",
   "execution_count": 65,
   "metadata": {},
   "outputs": [
    {
     "name": "stdout",
     "output_type": "stream",
     "text": [
      "(3248.8304909102326, 3501.784893705152)\n",
      "[335.69825689250627, 590.878537222306]\n"
     ]
    }
   ],
   "source": [
    "print(find_mean_ci(df.loc[df['sex'] == 2, 'Birth weight in grams'], 0.05))\n",
    "print(find_std_ci(df.loc[df['sex'] == 2, 'Birth weight in grams'], 0.05))"
   ]
  },
  {
   "cell_type": "markdown",
   "metadata": {},
   "source": [
    "Подчиняется ли распр пуассона"
   ]
  },
  {
   "cell_type": "code",
   "execution_count": null,
   "metadata": {},
   "outputs": [],
   "source": [
    "df['']"
   ]
  },
  {
   "cell_type": "markdown",
   "metadata": {},
   "source": [
    "### Задание 2"
   ]
  },
  {
   "cell_type": "code",
   "execution_count": 98,
   "metadata": {},
   "outputs": [
    {
     "data": {
      "text/html": [
       "<div>\n",
       "<style scoped>\n",
       "    .dataframe tbody tr th:only-of-type {\n",
       "        vertical-align: middle;\n",
       "    }\n",
       "\n",
       "    .dataframe tbody tr th {\n",
       "        vertical-align: top;\n",
       "    }\n",
       "\n",
       "    .dataframe thead th {\n",
       "        text-align: right;\n",
       "    }\n",
       "</style>\n",
       "<table border=\"1\" class=\"dataframe\">\n",
       "  <thead>\n",
       "    <tr style=\"text-align: right;\">\n",
       "      <th></th>\n",
       "      <th>id</th>\n",
       "      <th>weight</th>\n",
       "      <th>batch</th>\n",
       "    </tr>\n",
       "  </thead>\n",
       "  <tbody>\n",
       "    <tr>\n",
       "      <th>0</th>\n",
       "      <td>1</td>\n",
       "      <td>7.512</td>\n",
       "      <td>1</td>\n",
       "    </tr>\n",
       "    <tr>\n",
       "      <th>1</th>\n",
       "      <td>2</td>\n",
       "      <td>7.502</td>\n",
       "      <td>1</td>\n",
       "    </tr>\n",
       "    <tr>\n",
       "      <th>2</th>\n",
       "      <td>3</td>\n",
       "      <td>7.461</td>\n",
       "      <td>1</td>\n",
       "    </tr>\n",
       "    <tr>\n",
       "      <th>3</th>\n",
       "      <td>4</td>\n",
       "      <td>7.562</td>\n",
       "      <td>1</td>\n",
       "    </tr>\n",
       "    <tr>\n",
       "      <th>4</th>\n",
       "      <td>5</td>\n",
       "      <td>7.528</td>\n",
       "      <td>1</td>\n",
       "    </tr>\n",
       "  </tbody>\n",
       "</table>\n",
       "</div>"
      ],
      "text/plain": [
       "   id  weight  batch\n",
       "0   1   7.512      1\n",
       "1   2   7.502      1\n",
       "2   3   7.461      1\n",
       "3   4   7.562      1\n",
       "4   5   7.528      1"
      ]
     },
     "execution_count": 98,
     "metadata": {},
     "output_type": "execute_result"
    }
   ],
   "source": [
    "df = pd.read_csv('./data/euroweight.dat.txt', sep='\\t', header=None, names=['id', 'weight', 'batch'])\n",
    "df.head()"
   ]
  },
  {
   "cell_type": "code",
   "execution_count": 100,
   "metadata": {},
   "outputs": [
    {
     "data": {
      "text/plain": [
       "KstestResult(statistic=0.023353803446905852, pvalue=0.22192512324841585, statistic_location=7.526, statistic_sign=1)"
      ]
     },
     "execution_count": 100,
     "metadata": {},
     "output_type": "execute_result"
    }
   ],
   "source": [
    "st.ks_1samp(x=df['weight'], \n",
    "            cdf=st.norm(df['weight'].mean(), \n",
    "                        df['weight'].std(ddof=1)).cdf)"
   ]
  },
  {
   "cell_type": "code",
   "execution_count": 101,
   "metadata": {},
   "outputs": [
    {
     "name": "stdout",
     "output_type": "stream",
     "text": [
      "(7.519725795354421, 7.522739204645579)\n",
      "[0.03334580812823817, 0.03547904750143223]\n"
     ]
    }
   ],
   "source": [
    "print(find_mean_ci(df['weight'], 0.05))\n",
    "print(find_std_ci(df['weight'], 0.05))"
   ]
  },
  {
   "cell_type": "code",
   "execution_count": 102,
   "metadata": {},
   "outputs": [
    {
     "name": "stdout",
     "output_type": "stream",
     "text": [
      "KstestResult(statistic=0.038472438278823295, pvalue=0.8389620125716332, statistic_location=7.506, statistic_sign=1)\n",
      "KstestResult(statistic=0.03265930919143112, pvalue=0.9444808004928708, statistic_location=7.531, statistic_sign=1)\n",
      "KstestResult(statistic=0.07792267647627489, pvalue=0.0910506298988909, statistic_location=7.473, statistic_sign=-1)\n",
      "KstestResult(statistic=0.04544943866051099, pvalue=0.6628215726419289, statistic_location=7.544, statistic_sign=-1)\n",
      "KstestResult(statistic=0.03499095797591667, pvalue=0.9087939122045151, statistic_location=7.55, statistic_sign=-1)\n",
      "KstestResult(statistic=0.055099573639602606, pvalue=0.4186860218860704, statistic_location=7.493, statistic_sign=1)\n",
      "KstestResult(statistic=0.042332335662710996, pvalue=0.7449928480338537, statistic_location=7.547, statistic_sign=-1)\n",
      "KstestResult(statistic=0.0701373917985999, pvalue=0.16294891063512817, statistic_location=7.525, statistic_sign=1)\n"
     ]
    }
   ],
   "source": [
    "for batch in df['batch'].unique():\n",
    "    test = st.ks_1samp(x=df.loc[df['batch'] == batch, 'weight'], \n",
    "            cdf=st.norm(df.loc[df['batch'] == batch, 'weight'].mean(), \n",
    "                        df.loc[df['batch'] == batch,'weight'].std(ddof=1)).cdf)\n",
    "    print(test)"
   ]
  },
  {
   "cell_type": "markdown",
   "metadata": {},
   "source": [
    "### Везде не отвергаем H0"
   ]
  },
  {
   "cell_type": "markdown",
   "metadata": {},
   "source": [
    "### Задание 3"
   ]
  },
  {
   "cell_type": "code",
   "execution_count": 108,
   "metadata": {},
   "outputs": [
    {
     "data": {
      "text/html": [
       "<div>\n",
       "<style scoped>\n",
       "    .dataframe tbody tr th:only-of-type {\n",
       "        vertical-align: middle;\n",
       "    }\n",
       "\n",
       "    .dataframe tbody tr th {\n",
       "        vertical-align: top;\n",
       "    }\n",
       "\n",
       "    .dataframe thead th {\n",
       "        text-align: right;\n",
       "    }\n",
       "</style>\n",
       "<table border=\"1\" class=\"dataframe\">\n",
       "  <thead>\n",
       "    <tr style=\"text-align: right;\">\n",
       "      <th></th>\n",
       "      <th>sepal length</th>\n",
       "      <th>sepal width</th>\n",
       "      <th>petal length</th>\n",
       "      <th>petal width</th>\n",
       "      <th>class</th>\n",
       "    </tr>\n",
       "  </thead>\n",
       "  <tbody>\n",
       "    <tr>\n",
       "      <th>0</th>\n",
       "      <td>5.1</td>\n",
       "      <td>3.5</td>\n",
       "      <td>1.4</td>\n",
       "      <td>0.2</td>\n",
       "      <td>Iris-setosa</td>\n",
       "    </tr>\n",
       "    <tr>\n",
       "      <th>1</th>\n",
       "      <td>4.9</td>\n",
       "      <td>3.0</td>\n",
       "      <td>1.4</td>\n",
       "      <td>0.2</td>\n",
       "      <td>Iris-setosa</td>\n",
       "    </tr>\n",
       "    <tr>\n",
       "      <th>2</th>\n",
       "      <td>4.7</td>\n",
       "      <td>3.2</td>\n",
       "      <td>1.3</td>\n",
       "      <td>0.2</td>\n",
       "      <td>Iris-setosa</td>\n",
       "    </tr>\n",
       "    <tr>\n",
       "      <th>3</th>\n",
       "      <td>4.6</td>\n",
       "      <td>3.1</td>\n",
       "      <td>1.5</td>\n",
       "      <td>0.2</td>\n",
       "      <td>Iris-setosa</td>\n",
       "    </tr>\n",
       "    <tr>\n",
       "      <th>4</th>\n",
       "      <td>5.0</td>\n",
       "      <td>3.6</td>\n",
       "      <td>1.4</td>\n",
       "      <td>0.2</td>\n",
       "      <td>Iris-setosa</td>\n",
       "    </tr>\n",
       "  </tbody>\n",
       "</table>\n",
       "</div>"
      ],
      "text/plain": [
       "   sepal length  sepal width  petal length  petal width        class\n",
       "0           5.1          3.5           1.4          0.2  Iris-setosa\n",
       "1           4.9          3.0           1.4          0.2  Iris-setosa\n",
       "2           4.7          3.2           1.3          0.2  Iris-setosa\n",
       "3           4.6          3.1           1.5          0.2  Iris-setosa\n",
       "4           5.0          3.6           1.4          0.2  Iris-setosa"
      ]
     },
     "execution_count": 108,
     "metadata": {},
     "output_type": "execute_result"
    }
   ],
   "source": [
    "df = pd.read_csv('./data/iris.txt', header=None, names=['sepal length',\n",
    "                                                        'sepal width',\n",
    "                                                        'petal length',\n",
    "                                                        'petal width',\n",
    "                                                        'class'])\n",
    "df.head()"
   ]
  },
  {
   "cell_type": "code",
   "execution_count": 115,
   "metadata": {},
   "outputs": [
    {
     "name": "stdout",
     "output_type": "stream",
     "text": [
      "KstestResult(statistic=0.15781771984946413, pvalue=0.1486168768935111, statistic_location=1.5, statistic_sign=1)\n",
      "(1.4362329416227873, 1.4917670583772127)\n",
      "[0.1449397726456133, 0.2162180441236967]\n",
      "KstestResult(statistic=0.11712123583515, pvalue=0.4642415222366043, statistic_location=4.4, statistic_sign=-1)\n",
      "(4.184799963417372, 4.335200036582628)\n",
      "[0.3925326211066252, 0.5855717450167487]\n",
      "KstestResult(statistic=0.11360588567240326, pvalue=0.5028719892334554, statistic_location=5.1, statistic_sign=1)\n",
      "(5.4636800770489415, 5.640319922951059)\n",
      "[0.4610164093979061, 0.6877343915301193]\n"
     ]
    }
   ],
   "source": [
    "for iris_type in df['class'].unique():\n",
    "    print(st.ks_1samp(x=df.loc[df['class'] == iris_type, 'petal length'], \n",
    "                cdf=st.norm(df.loc[df['class'] == iris_type, 'petal length'].mean(), \n",
    "                            df.loc[df['class'] == iris_type, 'petal length'].std(ddof=1)).cdf))\n",
    "    print(find_mean_ci(df.loc[df['class'] == iris_type, 'petal length'], 0.05))\n",
    "    print(find_std_ci(df.loc[df['class'] == iris_type, 'petal length'], 0.05))"
   ]
  },
  {
   "cell_type": "markdown",
   "metadata": {},
   "source": [
    "везде не отвергаем HO"
   ]
  }
 ],
 "metadata": {
  "kernelspec": {
   "display_name": "venv",
   "language": "python",
   "name": "python3"
  },
  "language_info": {
   "codemirror_mode": {
    "name": "ipython",
    "version": 3
   },
   "file_extension": ".py",
   "mimetype": "text/x-python",
   "name": "python",
   "nbconvert_exporter": "python",
   "pygments_lexer": "ipython3",
   "version": "3.10.0"
  }
 },
 "nbformat": 4,
 "nbformat_minor": 2
}
