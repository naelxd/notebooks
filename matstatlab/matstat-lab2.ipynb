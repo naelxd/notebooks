{
 "cells": [
  {
   "cell_type": "markdown",
   "id": "1b34186a-76b9-4847-8679-95d0dfa307b9",
   "metadata": {},
   "source": [
    "Dataset “Babyboom” (переменные Time of birth recorded on the 24-hour clock, Sex of the child (1 = girl, 2 = boy), Birth weight in grams, Number of minutes after midnight of each birth): \n",
    "\n",
    "- Проверьте вес младенцев на нормальность. Сначала используйте все данные, не разделяя детей по полу, затем для группы мальчиков и девочек по отдельности. При проверке гипотез используйте точечные оценки параметров. Постройте доверительные интервалы для параметров нормального распределения. \n",
    "\n",
    "- Проверьте гипотезу о том, что время между рождением детей подчиняется экспоненциальному распределению. При проверке гипотезы используйте точечные оценки параметров. \n",
    "\n",
    "- Проверьте гипотезу, подчиняется ли количество рождений в час для каждого часа распределению Пуассона. При проверке гипотезы используйте точечные оценки параметров. \n",
    "\n",
    "Dataset “Euroweight” (переменные weight, batch): \n",
    "\n",
    "- Проверить гипотезу о нормальном распределении веса монет (сначала объединить все монеты в одну выборку, потом по каждому пакету в отдельности). При проверке гипотез используйте точечные оценки параметров.  \n",
    "\n",
    "- Постройте доверительные интервалы для параметров нормального распределения. \n",
    "\n",
    "Dataset “iris.txt” (прочитайте описание данных в файле «iris_description.txt», переменные sepal length, sepal width, petal length, petal width, class): \n",
    "\n",
    "- Проверить гипотезу о нормальном распределении длины цветков, сгруппировав их по типу ириса. При проверке гипотез используйте точечные оценки параметров.  \n",
    "\n",
    "- Постройте доверительные интервалы для параметров нормального распределения. "
   ]
  },
  {
   "cell_type": "markdown",
   "id": "e7ff0612-c338-443d-9c78-76278c4ae7bc",
   "metadata": {},
   "source": [
    "# Babyboom"
   ]
  },
  {
   "cell_type": "code",
   "execution_count": 1,
   "id": "a0eebed2-f326-4eb5-a6c5-443fe5d131e8",
   "metadata": {},
   "outputs": [],
   "source": [
    "import numpy as np\n",
    "import pandas as pd\n",
    "\n",
    "from scipy import stats"
   ]
  },
  {
   "cell_type": "code",
   "execution_count": 2,
   "id": "389b0b2c-d9c0-4040-a15e-53781efc062a",
   "metadata": {},
   "outputs": [],
   "source": [
    "# Определяем позиции столбцов\n",
    "column_specs = [\n",
    "    (0, 8),   # TimeOfBirth\n",
    "    (8, 16),  # Sex\n",
    "    (16, 24),  # BirthWeight\n",
    "    (24, 32),  # NumOfMinutesAfterMidnight\n",
    "]\n",
    "\n",
    "# Определяем имена столбцов\n",
    "column_names = [\n",
    "    \"TimeOfBirth\",\n",
    "    \"Sex\",\n",
    "    \"BirthWeight\",\n",
    "    \"NumOfMinutesAfterMidnight\",\n",
    "]\n",
    "\n",
    "# Читаем файл\n",
    "df = pd.read_fwf('babyboomdat.txt', colspecs=column_specs, header=None, names=column_names)"
   ]
  },
  {
   "cell_type": "code",
   "execution_count": 3,
   "id": "ea8cb0a4-42fd-4779-8ea4-32888c077c55",
   "metadata": {},
   "outputs": [
    {
     "name": "stdout",
     "output_type": "stream",
     "text": [
      "<class 'pandas.core.frame.DataFrame'>\n",
      "RangeIndex: 44 entries, 0 to 43\n",
      "Data columns (total 4 columns):\n",
      " #   Column                     Non-Null Count  Dtype\n",
      "---  ------                     --------------  -----\n",
      " 0   TimeOfBirth                44 non-null     int64\n",
      " 1   Sex                        44 non-null     int64\n",
      " 2   BirthWeight                44 non-null     int64\n",
      " 3   NumOfMinutesAfterMidnight  44 non-null     int64\n",
      "dtypes: int64(4)\n",
      "memory usage: 1.5 KB\n"
     ]
    }
   ],
   "source": [
    "df.info()"
   ]
  },
  {
   "cell_type": "code",
   "execution_count": 4,
   "id": "63ed597e-5d2b-4beb-9aa8-931dc1443825",
   "metadata": {},
   "outputs": [
    {
     "name": "stdout",
     "output_type": "stream",
     "text": [
      "ALL: W=0.8987229755100873, p-value=0.0009943974027275867\n",
      "BOYS: W=0.9474738942208476, p-value=0.20224825440795427\n",
      "GIRLS: W=0.8702829450561838, p-value=0.017984789994719325\n"
     ]
    }
   ],
   "source": [
    "data = df['BirthWeight']\n",
    "\n",
    "statistic, p_value = stats.shapiro(data)\n",
    "\n",
    "print(f'ALL: W={statistic}, p-value={p_value}')\n",
    "\n",
    "data_boys = df[df['Sex'] == 2]['BirthWeight']\n",
    "\n",
    "statistic, p_value = stats.shapiro(data_boys)\n",
    "\n",
    "print(f'BOYS: W={statistic}, p-value={p_value}')\n",
    "\n",
    "data_girls = df[df['Sex'] == 1]['BirthWeight']\n",
    "\n",
    "statistic, p_value = stats.shapiro(data_girls)\n",
    "\n",
    "print(f'GIRLS: W={statistic}, p-value={p_value}')"
   ]
  },
  {
   "cell_type": "code",
   "execution_count": 5,
   "id": "07ef8603-a159-4873-9942-540bc3ec8ab1",
   "metadata": {},
   "outputs": [
    {
     "name": "stdout",
     "output_type": "stream",
     "text": [
      "ALL: MEAN=3275.9545454545455, Interval=(3115.418005028038, 3436.491085881053)\n",
      "BOYS: MEAN=3375.3076923076924, Interval=(3202.4161508132743, 3548.1992338021105)\n",
      "GIRLS: MEAN=3132.4444444444443, Interval=(2818.3658395570424, 3446.5230493318463)\n"
     ]
    }
   ],
   "source": [
    "def get_conf_interval(data, confidence=0.95):\n",
    "    mean = np.mean(data)\n",
    "    std_err = stats.sem(data)\n",
    "    h = std_err * stats.t.ppf((1 + confidence) / 2, df=len(data) - 1)\n",
    "\n",
    "    return mean, mean - h, mean + h\n",
    "\n",
    "mean, low, high = get_conf_interval(data)\n",
    "print(f'ALL: MEAN={mean}, Interval=({low}, {high})')\n",
    "mean, low, high = get_conf_interval(data_boys)\n",
    "print(f'BOYS: MEAN={mean}, Interval=({low}, {high})')\n",
    "mean, low, high = get_conf_interval(data_girls)\n",
    "print(f'GIRLS: MEAN={mean}, Interval=({low}, {high})')"
   ]
  },
  {
   "cell_type": "code",
   "execution_count": 7,
   "id": "88ac3bd0-b511-4f61-b13d-2e29448befde",
   "metadata": {},
   "outputs": [
    {
     "name": "stdout",
     "output_type": "stream",
     "text": [
      "EXP: D=0.13751184043266534, p-value=0.3574267136129613\n"
     ]
    }
   ],
   "source": [
    "time_between_births = df['NumOfMinutesAfterMidnight'].diff().dropna()\n",
    "\n",
    "l = 1 / time_between_births.mean()\n",
    "d, p_value = stats.kstest(time_between_births, 'expon', args=(0, 1/l))\n",
    "\n",
    "print(f'EXP: D={d}, p-value={p_value}')"
   ]
  },
  {
   "cell_type": "code",
   "execution_count": 8,
   "id": "4b8100cc-b2af-41f9-b2fc-4211d80c86ad",
   "metadata": {},
   "outputs": [
    {
     "name": "stdout",
     "output_type": "stream",
     "text": [
      "POISSON: D=0.3808410193191538, p-value=0.003010055985884885\n"
     ]
    }
   ],
   "source": [
    "df['Hour'] = df['NumOfMinutesAfterMidnight'] // 60\n",
    "births_per_hour = df['Hour'].value_counts().sort_index()\n",
    "\n",
    "l = births_per_hour.mean()\n",
    "\n",
    "d, p_value = stats.kstest(births_per_hour, 'poisson', args=(l,))\n",
    "print(f'POISSON: D={d}, p-value={p_value}')"
   ]
  },
  {
   "cell_type": "code",
   "execution_count": 27,
   "id": "492111d1-4b2c-45f9-bb85-8eba7853deab",
   "metadata": {},
   "outputs": [
    {
     "name": "stdout",
     "output_type": "stream",
     "text": [
      "POISSON: Statistic=1.3328777274900886e+16, p-value=0.0\n"
     ]
    }
   ],
   "source": [
    "from scipy.stats import poisson, chisquare\n",
    "\n",
    "sample_size = len(df)\n",
    "\n",
    "df['Hour'] = df['NumOfMinutesAfterMidnight'] // 60\n",
    "births_per_hour, bins = np.histogram(df['Hour'], bins=np.arange(25))\n",
    "lambda_poisson = np.mean(births_per_hour)\n",
    "expected_counts = poisson.pmf(np.arange(24), mu=lambda_poisson) * sample_size\n",
    "\n",
    "chi_stat, p_value = chisquare(births_per_hour, expected_counts)\n",
    "\n",
    "print(f'POISSON: Statistic={chi_stat}, p-value={p_value}')"
   ]
  },
  {
   "cell_type": "markdown",
   "id": "a2ffb7ee-9366-4cd3-925c-3335d1029fef",
   "metadata": {},
   "source": [
    "# Euroweight"
   ]
  },
  {
   "cell_type": "code",
   "execution_count": 11,
   "id": "61ca67da-fa68-41ef-b0c0-f6ca9daba61b",
   "metadata": {},
   "outputs": [],
   "source": [
    "# Определяем имена столбцов\n",
    "column_names = [\n",
    "    \"id\",\n",
    "    \"weight\",\n",
    "    \"batch\",\n",
    "]\n",
    "\n",
    "# Читаем файл\n",
    "df = pd.read_csv('euroweightdat.txt', sep='\\t', header=None, names=column_names)"
   ]
  },
  {
   "cell_type": "code",
   "execution_count": 12,
   "id": "bae9a279-9605-4492-ac22-f3263e6e32d8",
   "metadata": {},
   "outputs": [
    {
     "data": {
      "text/html": [
       "<div>\n",
       "<style scoped>\n",
       "    .dataframe tbody tr th:only-of-type {\n",
       "        vertical-align: middle;\n",
       "    }\n",
       "\n",
       "    .dataframe tbody tr th {\n",
       "        vertical-align: top;\n",
       "    }\n",
       "\n",
       "    .dataframe thead th {\n",
       "        text-align: right;\n",
       "    }\n",
       "</style>\n",
       "<table border=\"1\" class=\"dataframe\">\n",
       "  <thead>\n",
       "    <tr style=\"text-align: right;\">\n",
       "      <th></th>\n",
       "      <th>id</th>\n",
       "      <th>weight</th>\n",
       "      <th>batch</th>\n",
       "    </tr>\n",
       "  </thead>\n",
       "  <tbody>\n",
       "    <tr>\n",
       "      <th>0</th>\n",
       "      <td>1</td>\n",
       "      <td>7.512</td>\n",
       "      <td>1</td>\n",
       "    </tr>\n",
       "    <tr>\n",
       "      <th>1</th>\n",
       "      <td>2</td>\n",
       "      <td>7.502</td>\n",
       "      <td>1</td>\n",
       "    </tr>\n",
       "    <tr>\n",
       "      <th>2</th>\n",
       "      <td>3</td>\n",
       "      <td>7.461</td>\n",
       "      <td>1</td>\n",
       "    </tr>\n",
       "    <tr>\n",
       "      <th>3</th>\n",
       "      <td>4</td>\n",
       "      <td>7.562</td>\n",
       "      <td>1</td>\n",
       "    </tr>\n",
       "    <tr>\n",
       "      <th>4</th>\n",
       "      <td>5</td>\n",
       "      <td>7.528</td>\n",
       "      <td>1</td>\n",
       "    </tr>\n",
       "    <tr>\n",
       "      <th>...</th>\n",
       "      <td>...</td>\n",
       "      <td>...</td>\n",
       "      <td>...</td>\n",
       "    </tr>\n",
       "    <tr>\n",
       "      <th>1995</th>\n",
       "      <td>1996</td>\n",
       "      <td>7.514</td>\n",
       "      <td>8</td>\n",
       "    </tr>\n",
       "    <tr>\n",
       "      <th>1996</th>\n",
       "      <td>1997</td>\n",
       "      <td>7.519</td>\n",
       "      <td>8</td>\n",
       "    </tr>\n",
       "    <tr>\n",
       "      <th>1997</th>\n",
       "      <td>1998</td>\n",
       "      <td>7.606</td>\n",
       "      <td>8</td>\n",
       "    </tr>\n",
       "    <tr>\n",
       "      <th>1998</th>\n",
       "      <td>1999</td>\n",
       "      <td>7.547</td>\n",
       "      <td>8</td>\n",
       "    </tr>\n",
       "    <tr>\n",
       "      <th>1999</th>\n",
       "      <td>2000</td>\n",
       "      <td>7.494</td>\n",
       "      <td>8</td>\n",
       "    </tr>\n",
       "  </tbody>\n",
       "</table>\n",
       "<p>2000 rows × 3 columns</p>\n",
       "</div>"
      ],
      "text/plain": [
       "        id  weight  batch\n",
       "0        1   7.512      1\n",
       "1        2   7.502      1\n",
       "2        3   7.461      1\n",
       "3        4   7.562      1\n",
       "4        5   7.528      1\n",
       "...    ...     ...    ...\n",
       "1995  1996   7.514      8\n",
       "1996  1997   7.519      8\n",
       "1997  1998   7.606      8\n",
       "1998  1999   7.547      8\n",
       "1999  2000   7.494      8\n",
       "\n",
       "[2000 rows x 3 columns]"
      ]
     },
     "execution_count": 12,
     "metadata": {},
     "output_type": "execute_result"
    }
   ],
   "source": [
    "df"
   ]
  },
  {
   "cell_type": "code",
   "execution_count": 19,
   "id": "e1f8c062-3c91-4313-ac98-37f19aac5a90",
   "metadata": {},
   "outputs": [
    {
     "name": "stdout",
     "output_type": "stream",
     "text": [
      "ALL: KS Statistic=0.023353803446905852, p-value=0.22192512324841585\n",
      "Batch N1: KS Statistic=0.038472438278823295, p-value=0.8389620125716332\n",
      "Batch N2: KS Statistic=0.03265930919143112, p-value=0.9444808004928708\n",
      "Batch N3: KS Statistic=0.07792267647627489, p-value=0.0910506298988909\n",
      "Batch N4: KS Statistic=0.04544943866051099, p-value=0.6628215726419289\n",
      "Batch N5: KS Statistic=0.03499095797591667, p-value=0.9087939122045151\n",
      "Batch N6: KS Statistic=0.055099573639602606, p-value=0.4186860218860704\n",
      "Batch N7: KS Statistic=0.042332335662710996, p-value=0.7449928480338537\n",
      "Batch N8: KS Statistic=0.0701373917985999, p-value=0.16294891063512817\n"
     ]
    }
   ],
   "source": [
    "data = df['weight']\n",
    "\n",
    "ks_stat, p_value = stats.kstest(data, 'norm', args=(data.mean(), data.std()))\n",
    "\n",
    "print(f'ALL: KS Statistic={ks_stat}, p-value={p_value}')\n",
    "\n",
    "for batch in df['batch'].unique():\n",
    "    data = df[df['batch'] == batch]['weight']\n",
    "    ks_stat, p_value = stats.kstest(data, 'norm', args=(data.mean(), data.std()))\n",
    "    print(f'Batch N{batch}: KS Statistic={ks_stat}, p-value={p_value}')"
   ]
  },
  {
   "cell_type": "code",
   "execution_count": 21,
   "id": "f4a9d3be-5335-4231-b60f-c5ddeb5ec0e0",
   "metadata": {},
   "outputs": [
    {
     "name": "stdout",
     "output_type": "stream",
     "text": [
      "ALL: MEAN=7.5212325, Interval=(7.519724882523983, 7.522740117476017)\n",
      "Batch N1: MEAN=7.519656, Interval=(7.515375800837306, 7.523936199162694)\n",
      "Batch N2: MEAN=7.523168000000001, Interval=(7.518747761295764, 7.527588238704238)\n",
      "Batch N3: MEAN=7.509544, Interval=(7.504930027624747, 7.514157972375253)\n",
      "Batch N4: MEAN=7.531104, Interval=(7.5274397498218875, 7.534768250178113)\n",
      "Batch N5: MEAN=7.531396000000001, Interval=(7.527705750509117, 7.535086249490885)\n",
      "Batch N6: MEAN=7.5152399999999995, Interval=(7.511076559213748, 7.519403440786251)\n",
      "Batch N7: MEAN=7.523015999999999, Interval=(7.518905563172776, 7.527126436827222)\n",
      "Batch N8: MEAN=7.516736, Interval=(7.512205019334981, 7.521266980665018)\n"
     ]
    }
   ],
   "source": [
    "data = df['weight']\n",
    "\n",
    "mean, low, high = get_conf_interval(data)\n",
    "\n",
    "print(f'ALL: MEAN={mean}, Interval=({low}, {high})')\n",
    "\n",
    "for batch in df['batch'].unique():\n",
    "    data = df[df['batch'] == batch]['weight']\n",
    "    mean, low, high = get_conf_interval(data)\n",
    "    print(f'Batch N{batch}: MEAN={mean}, Interval=({low}, {high})')"
   ]
  },
  {
   "cell_type": "markdown",
   "id": "586650ad-8522-4eee-a061-eac39451eae4",
   "metadata": {},
   "source": [
    "# Iris"
   ]
  },
  {
   "cell_type": "code",
   "execution_count": 22,
   "id": "478f130e-58cd-4e59-a17d-2c854ca706aa",
   "metadata": {},
   "outputs": [],
   "source": [
    "# Определяем имена столбцов\n",
    "column_names = [\n",
    "    \"sepal_length\",\n",
    "    \"sepal_width\",\n",
    "    \"petal_length\",\n",
    "    \"petal_width\",\n",
    "    \"class\",\n",
    "]\n",
    "\n",
    "# Читаем файл\n",
    "df = pd.read_csv('iris.txt', header=None, names=column_names)"
   ]
  },
  {
   "cell_type": "code",
   "execution_count": 23,
   "id": "2423d139-2f49-4e10-9a16-ece720a37d74",
   "metadata": {},
   "outputs": [
    {
     "data": {
      "text/html": [
       "<div>\n",
       "<style scoped>\n",
       "    .dataframe tbody tr th:only-of-type {\n",
       "        vertical-align: middle;\n",
       "    }\n",
       "\n",
       "    .dataframe tbody tr th {\n",
       "        vertical-align: top;\n",
       "    }\n",
       "\n",
       "    .dataframe thead th {\n",
       "        text-align: right;\n",
       "    }\n",
       "</style>\n",
       "<table border=\"1\" class=\"dataframe\">\n",
       "  <thead>\n",
       "    <tr style=\"text-align: right;\">\n",
       "      <th></th>\n",
       "      <th>sepal_length</th>\n",
       "      <th>sepal_width</th>\n",
       "      <th>petal_length</th>\n",
       "      <th>petal_width</th>\n",
       "      <th>class</th>\n",
       "    </tr>\n",
       "  </thead>\n",
       "  <tbody>\n",
       "    <tr>\n",
       "      <th>0</th>\n",
       "      <td>5.1</td>\n",
       "      <td>3.5</td>\n",
       "      <td>1.4</td>\n",
       "      <td>0.2</td>\n",
       "      <td>Iris-setosa</td>\n",
       "    </tr>\n",
       "    <tr>\n",
       "      <th>1</th>\n",
       "      <td>4.9</td>\n",
       "      <td>3.0</td>\n",
       "      <td>1.4</td>\n",
       "      <td>0.2</td>\n",
       "      <td>Iris-setosa</td>\n",
       "    </tr>\n",
       "    <tr>\n",
       "      <th>2</th>\n",
       "      <td>4.7</td>\n",
       "      <td>3.2</td>\n",
       "      <td>1.3</td>\n",
       "      <td>0.2</td>\n",
       "      <td>Iris-setosa</td>\n",
       "    </tr>\n",
       "    <tr>\n",
       "      <th>3</th>\n",
       "      <td>4.6</td>\n",
       "      <td>3.1</td>\n",
       "      <td>1.5</td>\n",
       "      <td>0.2</td>\n",
       "      <td>Iris-setosa</td>\n",
       "    </tr>\n",
       "    <tr>\n",
       "      <th>4</th>\n",
       "      <td>5.0</td>\n",
       "      <td>3.6</td>\n",
       "      <td>1.4</td>\n",
       "      <td>0.2</td>\n",
       "      <td>Iris-setosa</td>\n",
       "    </tr>\n",
       "    <tr>\n",
       "      <th>...</th>\n",
       "      <td>...</td>\n",
       "      <td>...</td>\n",
       "      <td>...</td>\n",
       "      <td>...</td>\n",
       "      <td>...</td>\n",
       "    </tr>\n",
       "    <tr>\n",
       "      <th>145</th>\n",
       "      <td>6.7</td>\n",
       "      <td>3.0</td>\n",
       "      <td>5.2</td>\n",
       "      <td>2.3</td>\n",
       "      <td>Iris-virginica</td>\n",
       "    </tr>\n",
       "    <tr>\n",
       "      <th>146</th>\n",
       "      <td>6.3</td>\n",
       "      <td>2.5</td>\n",
       "      <td>5.0</td>\n",
       "      <td>1.9</td>\n",
       "      <td>Iris-virginica</td>\n",
       "    </tr>\n",
       "    <tr>\n",
       "      <th>147</th>\n",
       "      <td>6.5</td>\n",
       "      <td>3.0</td>\n",
       "      <td>5.2</td>\n",
       "      <td>2.0</td>\n",
       "      <td>Iris-virginica</td>\n",
       "    </tr>\n",
       "    <tr>\n",
       "      <th>148</th>\n",
       "      <td>6.2</td>\n",
       "      <td>3.4</td>\n",
       "      <td>5.4</td>\n",
       "      <td>2.3</td>\n",
       "      <td>Iris-virginica</td>\n",
       "    </tr>\n",
       "    <tr>\n",
       "      <th>149</th>\n",
       "      <td>5.9</td>\n",
       "      <td>3.0</td>\n",
       "      <td>5.1</td>\n",
       "      <td>1.8</td>\n",
       "      <td>Iris-virginica</td>\n",
       "    </tr>\n",
       "  </tbody>\n",
       "</table>\n",
       "<p>150 rows × 5 columns</p>\n",
       "</div>"
      ],
      "text/plain": [
       "     sepal_length  sepal_width  petal_length  petal_width           class\n",
       "0             5.1          3.5           1.4          0.2     Iris-setosa\n",
       "1             4.9          3.0           1.4          0.2     Iris-setosa\n",
       "2             4.7          3.2           1.3          0.2     Iris-setosa\n",
       "3             4.6          3.1           1.5          0.2     Iris-setosa\n",
       "4             5.0          3.6           1.4          0.2     Iris-setosa\n",
       "..            ...          ...           ...          ...             ...\n",
       "145           6.7          3.0           5.2          2.3  Iris-virginica\n",
       "146           6.3          2.5           5.0          1.9  Iris-virginica\n",
       "147           6.5          3.0           5.2          2.0  Iris-virginica\n",
       "148           6.2          3.4           5.4          2.3  Iris-virginica\n",
       "149           5.9          3.0           5.1          1.8  Iris-virginica\n",
       "\n",
       "[150 rows x 5 columns]"
      ]
     },
     "execution_count": 23,
     "metadata": {},
     "output_type": "execute_result"
    }
   ],
   "source": [
    "df"
   ]
  },
  {
   "cell_type": "code",
   "execution_count": 25,
   "id": "ff0492d1-f32c-47e7-b451-bf189743b994",
   "metadata": {},
   "outputs": [
    {
     "name": "stdout",
     "output_type": "stream",
     "text": [
      "Class Iris-setosa: KS Statistic=0.11485990669608126, p-value=0.4889236515009082\n",
      "Class Iris-versicolor: KS Statistic=0.09624091191683509, p-value=0.7071234035717402\n",
      "Class Iris-virginica: KS Statistic=0.11503428728233644, p-value=0.48699833606145904\n"
     ]
    }
   ],
   "source": [
    "for fclass in df['class'].unique():\n",
    "    data = df[df['class'] == fclass]['sepal_length']\n",
    "    ks_stat, p_value = stats.kstest(data, 'norm', args=(data.mean(), data.std()))\n",
    "    print(f'Class {fclass}: KS Statistic={ks_stat}, p-value={p_value}')"
   ]
  },
  {
   "cell_type": "code",
   "execution_count": 26,
   "id": "d579e31c-14a3-419f-b50d-3a8653104f5d",
   "metadata": {},
   "outputs": [
    {
     "name": "stdout",
     "output_type": "stream",
     "text": [
      "Class Iris-setosa: MEAN=5.006, Interval=(4.905823539299264, 5.106176460700737)\n",
      "Class Iris-versicolor: MEAN=5.936, Interval=(5.789305783106826, 6.082694216893174)\n",
      "Class Iris-virginica: MEAN=6.587999999999998, Interval=(6.407285019117501, 6.768714980882495)\n"
     ]
    }
   ],
   "source": [
    "for fclass in df['class'].unique():\n",
    "    data = df[df['class'] == fclass]['sepal_length']\n",
    "    mean, low, high = get_conf_interval(data)\n",
    "    print(f'Class {fclass}: MEAN={mean}, Interval=({low}, {high})')"
   ]
  }
 ],
 "metadata": {
  "kernelspec": {
   "display_name": "Python 3 (ipykernel)",
   "language": "python",
   "name": "python3"
  },
  "language_info": {
   "codemirror_mode": {
    "name": "ipython",
    "version": 3
   },
   "file_extension": ".py",
   "mimetype": "text/x-python",
   "name": "python",
   "nbconvert_exporter": "python",
   "pygments_lexer": "ipython3",
   "version": "3.12.7"
  }
 },
 "nbformat": 4,
 "nbformat_minor": 5
}
